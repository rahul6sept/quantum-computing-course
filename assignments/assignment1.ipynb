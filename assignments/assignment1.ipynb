{
 "cells": [
  {
   "cell_type": "markdown",
   "metadata": {
    "deletable": false,
    "editable": false
   },
   "source": [
    "# Assignment 1\n",
    "Welcome to the first programming assigment for the course. This assignments will help to familiarise you with qiskit while revisiting the topics discussed in this week's lectures. \n",
    "\n",
    "### Submission Guidelines\n",
    "For final submission, and to ensure that you have no errors in your solution, please use the 'Restart Kernel and run all cells' option availble in the Kernel menu at the top of the page. \n",
    "To submit your solution, run the completed notebook and then copy the two strings at the bottom of the notebook (which will be generated from your answers) and paste them in the google form associated with the assignment. In addition to this, please also attach the solved notebook as a file using the 'Add or Create' option under the 'Your Work' heading on the assignment page. \n",
    "<div class=\"alert alert-block alert-info\"><b>Instructions:</b> Only some of the cells in this notebook are editable. These are the only ones you need to edit to fill your submission. You can run all cells</div>"
   ]
  },
  {
   "cell_type": "code",
   "execution_count": null,
   "metadata": {
    "deletable": false,
    "editable": false
   },
   "outputs": [],
   "source": [
    "%matplotlib inline\n",
    "import hashlib\n",
    "import numpy as np\n",
    "import matplotlib.pyplot as plt\n",
    "# Importing standard Qiskit libraries and configuring account\n",
    "from qiskit import QuantumCircuit, execute\n",
    "from qiskit.circuit import Parameter\n",
    "from qiskit.providers.aer import QasmSimulator\n",
    "from qiskit.visualization import *"
   ]
  },
  {
   "cell_type": "markdown",
   "metadata": {
    "deletable": false,
    "editable": false
   },
   "source": [
    "## Rotations on the Bloch sphere\n",
    "A general single-qubit state on the Bloch sphere is denoted by the statevector $$ |\\psi\\rangle = \\cos{(\\tfrac{\\theta}{2})}|0\\rangle + e^{i\\phi}\\sin{\\tfrac{\\theta}{2}}|1\\rangle $$\n",
    "We have seen the phase-shift operation $R_{\\phi}$ corresponding to rotation by some angle $\\phi$ about the $z$-axis. The statevector on the Bloch sphere traces a horizontal circle (a line of latitude) by $\\phi$  radians. This operation has the matrix representation\n",
    "$$ \n",
    "R_{\\phi} = \n",
    "\\begin{pmatrix}\n",
    "    1 & 0 \\\\\n",
    "    0 & e^{i\\phi}\n",
    "\\end{pmatrix}\n",
    "$$\n",
    "This operation changes the relative phase of the statevector, hence the name. \n",
    "It stands to reason that there are operations which rotate a vector about other axes too. We have already seen that the phase-shift gate is a generalisation of the Pauli $Z$ gate. So it is reasonable to think that rotation about the $x$-axis and $y$-axis might be related to the Pauli $X$ and $Y$ operations. This is indeed the case. In general a rotation about a Pauli axis (these are synonymous with the $x$, $y$ and $z$ axes for our purposes) is represented by $$R_{P}(\\theta) = \\exp(-i\\theta P/2) = \\cos(\\theta/2)I -i \\sin(\\theta/2)P$$\n",
    "\n",
    "For the purposes of this assigment\n",
    "\n",
    "$$\n",
    "R_x(\\theta) = \n",
    "\\begin{pmatrix}\n",
    "\\cos(\\theta/2) & -i\\sin(\\theta/2)\\\\\n",
    "-i\\sin(\\theta/2) & \\cos(\\theta/2)\n",
    "\\end{pmatrix} \n",
    "$$\n",
    "$$\n",
    "R_y(\\theta) =\n",
    "\\begin{pmatrix}\n",
    "\\cos(\\theta/2) & - \\sin(\\theta/2)\\\\\n",
    "\\sin(\\theta/2) & \\cos(\\theta/2).\n",
    "\\end{pmatrix} \n",
    "$$\n",
    "$$\n",
    "R_z(\\phi) = \n",
    "\\begin{pmatrix}\n",
    "e^{-i \\phi/2} & 0 \\\\\n",
    "0 & e^{i \\phi/2}\n",
    "\\end{pmatrix}\n",
    "$$\n",
    "\n",
    "Note that here we have used an equivalent as it is different to $R_{\\phi}$ by a global phase $e^{-i \\phi/2}$.\n",
    "\n",
    "If we start in the $|0\\rangle$ state, as all quantum circuits in qiskit do, we can get to the general state $|\\psi\\rangle$ by first performing a rotation about the $y$-axis by an angle $\\theta$, followed by a rotation about the $z$-axis by an angle $\\phi$.\n",
    "\n",
    "$$ |\\psi\\rangle = R_z(\\phi) R_y(\\theta) |0\\rangle$$\n",
    "\n",
    "You can find a summary of all the gates available in qiskit [here](https://qiskit.org/documentation/tutorials/circuits/3_summary_of_quantum_operations.html#Single-Qubit-Gates). For this assignment, you are only allowed to use these gates. \n",
    "\n",
    "##  Measurement in different bases\n",
    "Qiskit allows measurement only in the computational basis directly. However, we can also perform meaurements in other bases. \n",
    "For example, consider the Hadamard basis $\\{|+\\rangle, |-\\rangle\\}$. When we measure in this basis, we get an outcome that is one of the two basis vectors. This can be done by projecting a general state $|\\psi\\rangle$ onto each of the basis states $|+\\rangle$ and $|-\\rangle$. The probability of obtaining the $+$ outcome is $ P_{+}(|\\psi\\rangle) = |\\langle +|\\psi\\rangle |^{2}$ and similarly for $-$. We note here that $|+\\rangle = H|0\\rangle$. Taking the adoint of this equation, we get $\\langle +| = \\langle 0|H^{\\dagger} = \\langle 0|H$ where we have used the fact that the Hadamard transformation is equal to it's adjoint (easily verified from the matrix representation). So we can write $ P_{+}(|\\psi\\rangle) = |\\langle +|\\psi\\rangle |^{2} =  |\\langle 0| H\\psi\\rangle |^{2}$. It seems that the probability of measuring the $+$ outcome in the Hadamard basis is the same as the probability of measuring $0$ in the computational basis after applying the Hadamard transformation to the statevector $|\\psi\\rangle$. So, if we want to measure in the Hadamard basis, we need only to add a Hadamard gate to our qubit and measure in the computational basis. \n",
    "\n",
    "## **Problem 1**\n",
    "Prepare the state $|i\\rangle$ in a quantum circuit and measure it in the Hadamard basis $\\{ |+\\rangle, |-\\rangle \\}$\n",
    "Below we have provided you with some code to create a quantum circuit. Add appropriate gates to prepare the $|i\\rangle$ state and then add gates and a measurement to measure it in the Hadamard basis."
   ]
  },
  {
   "cell_type": "code",
   "execution_count": null,
   "metadata": {},
   "outputs": [],
   "source": [
    "qc1 = QuantumCircuit(1) \n",
    "# Insert gates below to create the state \n",
    "qc1.h(0) \n",
    "qc1.s(0) \n",
    "# Insert the necessary gates to change to the Hadamard basis below and measure\n",
    "\n",
    "# Do not change below this line\n",
    "qc1.draw('mpl')"
   ]
  },
  {
   "cell_type": "markdown",
   "metadata": {
    "deletable": false,
    "editable": false
   },
   "source": [
    "<div class=\"alert alert-block alert-info\"><b>Instructions:</b>Once your circuit is ready, run the cell below to save your answer. You can change your answer by running these two cells in order again. </div>"
   ]
  },
  {
   "cell_type": "code",
   "execution_count": null,
   "metadata": {
    "deletable": false,
    "editable": false
   },
   "outputs": [],
   "source": [
    "basis_gates = ['id', 'x', 'y', 'z', 's', 't', 'sdg', 'tdg', 'h', 'p', 'sx' ,'r', 'rx', 'ry', 'rz', 'u', 'u1', 'u2', 'u3', 'barrier', 'measure']\n",
    "assert list(qc1.count_ops()) != [], \"Circuit cannot be empty\"\n",
    "assert set(qc1.count_ops().keys()).intersection(basis_gates) != set(), \"Only basic gates are allowed\"\n",
    "job1 = execute(qc1, backend=QasmSimulator(), shots=1024, seed_simulator=0)\n",
    "counts1 = job1.result().get_counts()\n",
    "answer1 = hashlib.sha256(str(counts1).encode()).hexdigest()\n",
    "plot_histogram(counts1)"
   ]
  },
  {
   "cell_type": "markdown",
   "metadata": {
    "deletable": false,
    "editable": false
   },
   "source": [
    "## Simulating polarisation of light on a quantum computer\n",
    "In this exercise, we will use quantum computing to simulate a toy model of photon polarisation.\n",
    "\n",
    "For a brief refresher on polarisation, and a demonstration of the experiment we will be simulating, watch the segment of the YouTube video below.\n",
    "\n",
    "Reference: \n",
    "Michael Melloch. \"Polarization of Electromagnetic Waves\" _YouTube_, Jun 20, 2019 https://www.youtube.com/watch?v=6N3bJ7Uxpp0"
   ]
  },
  {
   "cell_type": "code",
   "execution_count": null,
   "metadata": {
    "deletable": false,
    "editable": false
   },
   "outputs": [],
   "source": [
    "from IPython.display import YouTubeVideo, display\n",
    "polariser_exp = YouTubeVideo('6N3bJ7Uxpp0', end=93, height=405, width=720, modestbranding=1)\n",
    "display(polariser_exp)"
   ]
  },
  {
   "cell_type": "markdown",
   "metadata": {
    "deletable": false,
    "editable": false
   },
   "source": [
    "To simulate the action of a polariser on plane-polarised light, we have to somehow map the problem onto the Bloch sphere. Here is one way to do it. As shown in the video, the light exiting the first polariser is plane-polarised, which means it is polarised in a plane at some angle to the horizontal and vertical axes. After that, the second polariser essentially _projects_ this onto the pass-axis orientation of the polariser, which can be seen as a kind of measurement. So in our quantum circuit, we will consider only this part of the experiment, and see what fraction of the plane polarised light is transmitted through the second polariser as a function of their relative orientation.\n",
    "\n",
    "To do this, we need to consider only plane-polarised light. Let us assume that the light exiting the first polarizer is horizontally polarised. We know that if we place the second polariser with it's pass-axis vertical, no light will be transmitted. So these two states are orthogonal. Let us map these two states to $|0\\rangle$ and $|1\\rangle$ respectively (since these are also orthogonal). However, note that while the angle between the two orthogonal polarisation states is $\\pi/2$, the angle on the Bloch sphere between $|0\\rangle$ and $|1\\rangle$ is $\\pi$. We know that any other orientation of linearly polarised light can be written as a superposition of these two basis vectors. Moreover, since we are only considering linearly polarised light, we know that the relative phase is $0$. So we can restrict ourselves to the great circle on the Bloch sphere passing through $|0\\rangle$, $|+\\rangle$, $|1\\rangle$ and $|-\\rangle$. \n",
    "## **Problem 2**\n",
    "For this experiment, we will need to create a parameterised circuit, where the rotation angle is a parameter. Qiskit enables this using `Parameter()`. We will define a parameter $\\beta$ which is the relative angle between the two polarisers. Given below is a quantum circuit where the qubit starts in the $|0\\rangle$ state, the equivalent of horizontally plane polarised light. Change the measurement basis using a rotation gate with an angle of rotation in terms of the variable `beta` and measure in this basis. This basis change should correspond to rotating the second polariser by an angle $\\beta$. We take $\\beta$ to be positive in the counter-clockwise direction. "
   ]
  },
  {
   "cell_type": "code",
   "execution_count": null,
   "metadata": {},
   "outputs": [],
   "source": [
    "beta = Parameter('β')\n",
    "qc2 = QuantumCircuit(1)\n",
    "# Enter your code below this line\n",
    "\n",
    "# Do not change below this line\n",
    "qc2.draw(output='mpl')"
   ]
  },
  {
   "cell_type": "markdown",
   "metadata": {
    "deletable": false,
    "editable": false
   },
   "source": [
    "We will rotate the second polariser through an angle of $\\pi$. This means that $0\\le\\beta\\le\\pi$. We can repeat this experiment for $\\beta$ values in this range and count the number of times we measured a photon passing through the second polariser. \n",
    "<div class=\"alert alert-block alert-info\"><b>Instructions:</b>When you have done that, run the cell below to perform the experiment</div>\n"
   ]
  },
  {
   "cell_type": "code",
   "execution_count": null,
   "metadata": {
    "deletable": false,
    "editable": false
   },
   "outputs": [],
   "source": [
    "beta_range = np.linspace(0, np.pi, 50)\n",
    "\n",
    "num_shots = 1024\n",
    "\n",
    "basis_gates = ['id', 'x', 'y', 'z', 's', 't', 'sdg', 'tdg', 'h', 'p', 'sx' ,'r', 'rx', 'ry', 'rz', 'u', 'u1', 'u2', 'u3', 'barrier', 'measure']\n",
    "assert list(qc2.count_ops()) != [], \"Circuit cannot be empty\"\n",
    "assert set(qc2.count_ops().keys()).intersection(basis_gates) != set(), \"Only basic gates are allowed\"\n",
    "job2 = execute(qc2,\n",
    "              backend=QasmSimulator(),\n",
    "              shots = num_shots,\n",
    "              parameter_binds=[{beta: beta_val} for beta_val in beta_range], \n",
    "              seed_simulator=0) # For consistent results\n",
    "\n",
    "counts2 = job2.result().get_counts()\n",
    "# Calculating the probability of photons passing through\n",
    "probabilities = list(map(lambda c: c.get('0', 0)/num_shots, counts2))"
   ]
  },
  {
   "cell_type": "markdown",
   "metadata": {
    "deletable": false,
    "editable": false
   },
   "source": [
    "<div class=\"alert alert-block alert-info\"><b>Instructions:</b>Refer to the lecture slides for the theoretical transmission probability. Fill in that expression in the function below.</div>"
   ]
  },
  {
   "cell_type": "code",
   "execution_count": null,
   "metadata": {},
   "outputs": [],
   "source": [
    "def theoretical_prob(beta):\n",
    "    '''\n",
    "    Definition of theoretical transmission probability.\n",
    "    The expression for transmitted probability between two polarisers \n",
    "    with a relative angle `beta` given in radians\n",
    "       \n",
    "    '''\n",
    "    # Fill in the correct expression for this probability and assign it to the variable tp below\n",
    "    # You may use numpy function like so: np.func_name()\n",
    "    tp = \n",
    "    return tp"
   ]
  },
  {
   "cell_type": "markdown",
   "metadata": {
    "deletable": false,
    "editable": false
   },
   "source": [
    "<div class=\"alert alert-block alert-info\"><b>Instructions:</b>When you have defined the expression for the transmission probability, run the cell below to save your answer.  You can change your answer by running these two cells in order again. </div>"
   ]
  },
  {
   "cell_type": "code",
   "execution_count": null,
   "metadata": {
    "deletable": false,
    "editable": false
   },
   "outputs": [],
   "source": [
    "import matplotlib.pyplot as plt\n",
    "fig = plt.figure(figsize=(8,6))\n",
    "ax = fig.add_subplot(111)\n",
    "\n",
    "ax.plot(beta_range, probabilities, 'o', label='Experimental')\n",
    "ax.plot(beta_range, theoretical_prob(beta_range), '-', label='Theoretical')\n",
    "\n",
    "ax.set_xticks([i * np.pi / 4 for i in range(5)])\n",
    "ax.set_xticklabels(['0', r'$\\frac{\\pi}{4}$', r'$\\frac{\\pi}{2}$', r'$\\frac{3\\pi}{4}$', r'$\\pi$'], fontsize=14)\n",
    "ax.set_xlabel('θ', fontsize=14)\n",
    "ax.set_ylabel('Probability of Transmission', fontsize=14)\n",
    "ax.legend(fontsize=14)\n",
    "answer2 = hashlib.sha256(str(probabilities).encode()).hexdigest()"
   ]
  },
  {
   "cell_type": "markdown",
   "metadata": {
    "deletable": false,
    "editable": false
   },
   "source": [
    "## Final Submission\n",
    "<div class=\"alert alert-block alert-info\"><b>Instructions:</b> Run the cell below. Copy the string of characters next to each 'Answer #:' below and paste it into the Google form for the assignment. You should run this cell again if you change your answers</div>"
   ]
  },
  {
   "cell_type": "code",
   "execution_count": null,
   "metadata": {
    "deletable": false,
    "editable": false
   },
   "outputs": [],
   "source": [
    "print(f'Answer 1: {answer1}')\n",
    "print(f'Answer 2: {answer2}')"
   ]
  }
 ],
 "metadata": {
  "kernelspec": {
   "display_name": "Python 3",
   "language": "python",
   "name": "python3"
  },
  "language_info": {
   "codemirror_mode": {
    "name": "ipython",
    "version": 3
   },
   "file_extension": ".py",
   "mimetype": "text/x-python",
   "name": "python",
   "nbconvert_exporter": "python",
   "pygments_lexer": "ipython3",
   "version": "3.8.3"
  }
 },
 "nbformat": 4,
 "nbformat_minor": 4
}
